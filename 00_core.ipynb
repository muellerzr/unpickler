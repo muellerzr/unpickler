{
 "cells": [
  {
   "cell_type": "code",
   "execution_count": null,
   "metadata": {},
   "outputs": [],
   "source": [
    "# default_exp core"
   ]
  },
  {
   "cell_type": "markdown",
   "metadata": {},
   "source": [
    "# Core\n",
    "\n",
    "> Basic functionality for unpickling objects"
   ]
  },
  {
   "cell_type": "code",
   "execution_count": null,
   "metadata": {},
   "outputs": [],
   "source": [
    "#hide\n",
    "from nbdev.showdoc import *\n",
    "from fastcore.test import *\n",
    "import shutil"
   ]
  },
  {
   "cell_type": "code",
   "execution_count": null,
   "metadata": {},
   "outputs": [],
   "source": [
    "#export\n",
    "from fastcore.xtras import Path\n",
    "from fastcore.foundation import L\n",
    "from fastcore.basics import setify\n",
    "from fastcore.meta import delegates\n",
    "\n",
    "from importlib import import_module\n",
    "\n",
    "import os\n",
    "import pickle"
   ]
  },
  {
   "cell_type": "code",
   "execution_count": null,
   "metadata": {},
   "outputs": [],
   "source": [
    "#export\n",
    "def _get_files(p, fs, extensions=None):\n",
    "    p = Path(p)\n",
    "    res = [p/f for f in fs if not f.startswith('.')\n",
    "           and ((not extensions) or f'.{f.split(\".\")[-1].lower()}' in extensions)]\n",
    "    return res\n",
    "\n",
    "def get_files(path, extensions=None, recurse=True, folders=None, followlinks=True):\n",
    "    \"Get all the files in `path` with optional `extensions`, optionally with `recurse`, only in `folders`, if specified.\"\n",
    "    path = Path(path)\n",
    "    folders=L(folders)\n",
    "    extensions = setify(extensions)\n",
    "    extensions = {e.lower() for e in extensions}\n",
    "    if recurse:\n",
    "        res = []\n",
    "        for i,(p,d,f) in enumerate(os.walk(path, followlinks=followlinks)): # returns (dirpath, dirnames, filenames)\n",
    "            if len(folders) !=0 and i==0: d[:] = [o for o in d if o in folders]\n",
    "            else:                         d[:] = [o for o in d if not o.startswith('.')]\n",
    "            if len(folders) !=0 and i==0 and '.' not in folders: continue\n",
    "            res += _get_files(p, f, extensions)\n",
    "    else:\n",
    "        f = [o.name for o in os.scandir(path) if o.is_file()]\n",
    "        res = _get_files(path, f, extensions)\n",
    "    return L(res)"
   ]
  },
  {
   "cell_type": "code",
   "execution_count": null,
   "metadata": {},
   "outputs": [],
   "source": [
    "#export\n",
    "def _try_import(path, name):\n",
    "    for file in get_files(path, extensions='.py'):\n",
    "        try:\n",
    "            lib_name = str(file).split(path.name)[1]\n",
    "            import_statement = f'{path.name}'\n",
    "            for item in lib_name.split('/'):\n",
    "                if len(item.split('.')) > 1:\n",
    "                    item = item.split('.')[0]\n",
    "                import_statement += f'{item}.'\n",
    "            mod = import_module(import_statement[:-1], name)\n",
    "            g = globals()\n",
    "            g[name] = getattr(mod, name)\n",
    "            return\n",
    "        except:\n",
    "            raise ModuleNotFoundError(f\"Could not find {name} in any modules from {path.name}\")\n",
    "    raise ModuleNotFoundError(f\"Could not find {name} in any modules from {path.name}\")"
   ]
  },
  {
   "cell_type": "code",
   "execution_count": null,
   "metadata": {},
   "outputs": [],
   "source": [
    "#hide\n",
    "os.mkdir('lib')\n",
    "tmp = open('lib/tmp.py', 'w')\n",
    "tmp.write('def foo(a, b): return a, b')\n",
    "tmp.close()\n",
    "_try_import(Path('lib'), 'foo')\n",
    "test_eq(foo('x', 'y'), ('x', 'y'))\n",
    "shutil.rmtree('lib')\n",
    "g = globals()\n",
    "g.pop('foo');\n",
    "del g"
   ]
  },
  {
   "cell_type": "code",
   "execution_count": null,
   "metadata": {},
   "outputs": [],
   "source": [
    "#hide\n",
    "with ExceptionExpected(ModuleNotFoundError):\n",
    "    _try_import(Path('lib'), 'foo')"
   ]
  },
  {
   "cell_type": "code",
   "execution_count": null,
   "metadata": {},
   "outputs": [],
   "source": [
    "#export\n",
    "class UnpicklerModule(pickle.Unpickler):\n",
    "    \"Custom unpickler class for getting classes from a custom library\"\n",
    "    @delegates(pickle.Unpickler)\n",
    "    def __init__(self, lib_path:Path=Path('.'), **kwargs):\n",
    "        store_attr()\n",
    "        super().__init__(**kwargs)\n",
    "    \n",
    "    def find_class(self, module, name):\n",
    "        try:\n",
    "            return super().find_class(module, name)\n",
    "        except:\n",
    "            _try_import(self.lib_path, module, name)\n",
    "            return super().find_class(module, name)"
   ]
  }
 ],
 "metadata": {
  "kernelspec": {
   "display_name": "Python 3",
   "language": "python",
   "name": "python3"
  },
  "language_info": {
   "codemirror_mode": {
    "name": "ipython",
    "version": 3
   },
   "file_extension": ".py",
   "mimetype": "text/x-python",
   "name": "python",
   "nbconvert_exporter": "python",
   "pygments_lexer": "ipython3",
   "version": "3.7.7"
  },
  "toc": {
   "base_numbering": 1,
   "nav_menu": {},
   "number_sections": false,
   "sideBar": true,
   "skip_h1_title": false,
   "title_cell": "Table of Contents",
   "title_sidebar": "Contents",
   "toc_cell": false,
   "toc_position": {},
   "toc_section_display": true,
   "toc_window_display": true
  }
 },
 "nbformat": 4,
 "nbformat_minor": 2
}
